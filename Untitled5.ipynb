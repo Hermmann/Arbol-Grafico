{
  "nbformat": 4,
  "nbformat_minor": 0,
  "metadata": {
    "colab": {
      "name": "Untitled5.ipynb",
      "provenance": [],
      "collapsed_sections": [],
      "authorship_tag": "ABX9TyOEgzlSrHH7XNqNPCHunwhR",
      "include_colab_link": true
    },
    "kernelspec": {
      "name": "python3",
      "display_name": "Python 3"
    }
  },
  "cells": [
    {
      "cell_type": "markdown",
      "metadata": {
        "id": "view-in-github",
        "colab_type": "text"
      },
      "source": [
        "<a href=\"https://colab.research.google.com/github/Hermmann/Arbol-Grafico/blob/master/Untitled5.ipynb\" target=\"_parent\"><img src=\"https://colab.research.google.com/assets/colab-badge.svg\" alt=\"Open In Colab\"/></a>"
      ]
    },
    {
      "cell_type": "code",
      "metadata": {
        "id": "zSD9ZQzckbGR",
        "colab_type": "code",
        "colab": {
          "base_uri": "https://localhost:8080/",
          "height": 272
        },
        "outputId": "74921f79-2b6b-4867-c016-76d337ad2302"
      },
      "source": [
        "import numpy\n",
        "import math\n",
        "from time import time #importamos la función time para capturar tiempos\n",
        "\n",
        "tiempo_inicial = time() \n",
        "A=numpy.array([[2,3,2,1],[3,25,10,11],[2,10,25,22],[1,11,22,30]])\n",
        "b=numpy.array([[13],\n",
        "   [86],\n",
        "   [30],\n",
        "   [52]])\n",
        "print(A.shape)\n",
        "L=numpy.zeros((4,4))                          #array([[0,0,0,0],[0,0,0,0],[0,0,0,0],[0,0,0,0]])\n",
        "u=numpy.zeros((4,4))\n",
        "x=numpy.zeros(4)\n",
        "z=numpy.zeros(4)\n",
        "\n",
        "[n,m]=A.shape\n",
        "#C=[A,b]\n",
        "#print(C)\n",
        "#print(\"n\", n)\n",
        "\n",
        "if (n==m):    \n",
        "    for k in range(0, n):\n",
        "        sum1=0\n",
        "        for p in range(0, k):\n",
        "            sum1=sum1+(L[k][p]*u[p][k])\n",
        "        L[k][k]= math.sqrt(A[k][k]-sum1)\n",
        "        #print(L[k][k])\n",
        "        \n",
        "        u[k][k]= L[k][k] #L(k,k); #aqui iniciamos a hacer la factorizacion LU\n",
        "        for i in range(k+1,n):     #cambie aki       \n",
        "            sum2=0;\n",
        "            for q in range(0,k):   #cambie aki\n",
        "                sum2=sum2+L[i][q]*u[q][k]\n",
        "            \n",
        "            L[i][k]=(A[i][k]-sum2)/L[k][k] #se obtiene la matriz L\n",
        "        \n",
        "        for  j in range(k+1, n): #cambie aki\n",
        "            sum3=0;\n",
        "            for r in range (0, k):\n",
        "                sum3=sum3+L[k][r]*u[r][j]\n",
        "            \n",
        "            u[k][j]=(A[k][j]-sum3)/L[k][k] #se obtiene la matriz U\n",
        "    \n",
        "    #print(L)\n",
        "    #print()\n",
        "    #print(u)\n",
        "    prod= numpy.linalg.det(L)*numpy.linalg.det(u)\n",
        "    #print(\"det\", numpy.linalg.det(u))\n",
        "    #print(\"prod\",prod)                  #prod=det(L)*det(u) \n",
        "    if (prod!=0):\n",
        "        for i in range(0,n):\n",
        "            sum=0;\n",
        "            for p in range(0,i):\n",
        "                sum=sum+ L[i][p]*z[p]    #L(i,p)*z(p)\n",
        "            \n",
        "            z[i]=(b[i]-sum)/L[i][i] #se obtiene Z\n",
        "        \n",
        "        for i in range(n-1,-1,-1):  \n",
        "            sum=0;\n",
        "            for p in range(i+1, n):\n",
        "                sum = sum+(u[i][p]*x[p])\n",
        "                #print(\"sum\", sum)\n",
        "            \n",
        "            x[i]=(z[i]-sum)/u[i][i] #\n",
        "            #print(\"x\", x[i])\n",
        "    else:\n",
        "        print('\\nel sistema tiene o infinitas o ninguna solucion\\n')\n",
        "    \n",
        "#print(x)\n",
        "#print(z)  \n",
        "for i in range(0,n):\n",
        "    print('\\nX_',i,\"=\")\n",
        "    print(x[i])                 #disp(x(1,i));\n",
        "tiempo_final = time() \n",
        "tiempo_ejecucion = tiempo_final - tiempo_inicial\n",
        "print('\\nEl tiempo de ejecución es igual: ',tiempo_ejecucion)    "
      ],
      "execution_count": null,
      "outputs": [
        {
          "output_type": "stream",
          "text": [
            "(4, 4)\n",
            "\n",
            "X_ 0 =\n",
            "3.000000000000002\n",
            "\n",
            "X_ 1 =\n",
            "2.999999999999999\n",
            "\n",
            "X_ 2 =\n",
            "-2.000000000000001\n",
            "\n",
            "X_ 3 =\n",
            "2.000000000000001\n",
            "\n",
            "El tiempo de ejecución es igual:  0.0031735897064208984\n"
          ],
          "name": "stdout"
        }
      ]
    }
  ]
}